{
 "cells": [
  {
   "cell_type": "code",
   "execution_count": null,
   "id": "f98a0701-c55b-4a9b-b1b6-4a8cd1b9eaa5",
   "metadata": {},
   "outputs": [],
   "source": [
    "# Install dependencies\n",
    "!pip install \"langgraph>=0.6.4\" \"langchain-tavily>=0.2.11\" \"langgraph-checkpoint-sqlite>=2.0.11\" \"python-dotenv>=0.9.9\" \"langchain-openai>=0.3.29\" \"langchain-anthropic>=0.3.18\""
   ]
  },
  {
   "cell_type": "code",
   "execution_count": 11,
   "id": "17dd80e1-e1c0-4972-94ed-d6829206b99d",
   "metadata": {},
   "outputs": [],
   "source": [
    "import os\n",
    "from typing import Literal\n",
    "from typing_extensions import TypedDict\n",
    "\n",
    "from dotenv import load_dotenv\n",
    "from langchain.chat_models import init_chat_model\n",
    "from langchain_core.messages import HumanMessage, AIMessage, SystemMessage\n",
    "from langchain_tavily import TavilySearch\n",
    "from langgraph.graph import StateGraph, START, END\n",
    "from pydantic import BaseModel, Field\n",
    "\n",
    "# Initialize core components\n",
    "load_dotenv()  # Load API keys from .env file\n",
    "model = init_chat_model(\"anthropic:claude-sonnet-4-20250514\")  # Claude for classification and responses\n",
    "search = TavilySearch(max_results=2)  # Web search tool\n",
    "\n",
    "class SearchClassification(BaseModel):\n",
    "    \"\"\"Pydantic model for structured AI decision-making.\"\"\"\n",
    "    needs_search: bool = Field(..., description=\"Whether web search is required\")\n",
    "    search_query: str = Field(default=\"\", description=\"Optimized search query if needed\")\n",
    "\n",
    "class State(TypedDict):\n",
    "    \"\"\"LangGraph state - shared data between nodes.\"\"\"\n",
    "    messages: list          # Conversation history\n",
    "    search_results: str     # Web search results (if any)\n",
    "    needs_search: bool      # Classification decision\n",
    "    search_query: str       # Optimized query for search\n",
    "\n",
    "def classify_search_need(state: State) -> State:\n",
    "    \"\"\"Use AI to determine if web search is needed.\"\"\"\n",
    "    user_query = state[\"messages\"][-1].content\n",
    "    classifier = model.with_structured_output(SearchClassification)\n",
    "    \n",
    "    classification_prompt = SystemMessage(content=\"\"\"\n",
    "        Determine if this query needs web search for current/real-time information.\n",
    "        \n",
    "        Search needed for: current events, real-time data, recent updates, \"latest\" queries\n",
    "        No search for: general knowledge, historical facts, explanations, how-to questions\n",
    "    \"\"\")\n",
    "    \n",
    "    classification = classifier.invoke([classification_prompt, HumanMessage(content=user_query)])\n",
    "    \n",
    "    return {\n",
    "        \"needs_search\": classification.needs_search,\n",
    "        \"search_query\": classification.search_query or user_query\n",
    "    }\n",
    "\n",
    "def route_decision(state: State) -> Literal[\"search\", \"respond\"]:\n",
    "    \"\"\"Step 2: Route to either search or direct response based on classification.\"\"\"\n",
    "    return \"search\" if state[\"needs_search\"] else \"respond\"\n",
    "\n",
    "def search_web(state: State) -> State:\n",
    "    \"\"\"Step 3a: Perform web search using Tavily (if classification said search needed).\"\"\"\n",
    "    try:\n",
    "        # Use the optimized search query from classification\n",
    "        results = search.invoke(state[\"search_query\"])\n",
    "        state[\"search_results\"] = str(results)\n",
    "    except Exception as e:\n",
    "        # Handle search failures gracefully\n",
    "        state[\"search_results\"] = f\"Search error: {e}\"\n",
    "    return state\n",
    "\n",
    "def respond(state: State) -> State:\n",
    "    \"\"\"Step 3b: Generate final response using Claude (with search context if available).\"\"\"\n",
    "    messages = state[\"messages\"].copy()\n",
    "    \n",
    "    # Add search results as context if we have them\n",
    "    if state.get(\"search_results\"):\n",
    "        context = SystemMessage(content=f\"SEARCH RESULTS:\\n{state['search_results']}\\n\\nUse these facts to answer the user's question.\")\n",
    "        messages.insert(0, context)\n",
    "    \n",
    "    # Generate response with or without search context\n",
    "    response = model.invoke(messages)\n",
    "    return {\"messages\": [response]}\n",
    "\n",
    "def create_app():\n",
    "    \"\"\"Build the LangGraph workflow with nodes and conditional routing.\"\"\"\n",
    "    graph = StateGraph(State)\n",
    "    \n",
    "    # Add processing nodes\n",
    "    graph.add_node(\"classify\", classify_search_need)    # Step 1: Classify search need\n",
    "    graph.add_node(\"search\", search_web)                # Step 3a: Web search\n",
    "    graph.add_node(\"respond\", respond)                  # Step 3b: Generate response\n",
    "    \n",
    "    # Define the flow\n",
    "    graph.add_edge(START, \"classify\")                   # Always start with classification\n",
    "    graph.add_conditional_edges(\"classify\", route_decision, {\n",
    "        \"search\": \"search\",                             # If search needed -> search first\n",
    "        \"respond\": \"respond\"                            # If no search needed -> respond directly\n",
    "    })\n",
    "    graph.add_edge(\"search\", \"respond\")                 # After search -> always respond\n",
    "    graph.add_edge(\"respond\", END)                      # Response is always the end\n",
    "    \n",
    "    return graph.compile()  # Compile into executable workflow\n",
    "\n",
    "\n",
    "if __name__ == \"__main__\":\n",
    "    graph = create_app()"
   ]
  },
  {
   "cell_type": "code",
   "execution_count": 12,
   "id": "4e3dca27-8311-49ac-8b16-6cd78c621371",
   "metadata": {},
   "outputs": [
    {
     "data": {
      "image/png": "[encoded data removed]",
      "text/plain": [
       "<IPython.core.display.Image object>"
      ]
     },
     "metadata": {},
     "output_type": "display_data"
    }
   ],
   "source": [
    "from IPython.display import Image, display\n",
    "try:\n",
    "    display(Image(graph.get_graph().draw_mermaid_png()))\n",
    "except Exception as e:\n",
    "    print(f\"Could not generate graph image: {e}\")"
   ]
  }
 ],
 "metadata": {
  "kernelspec": {
   "display_name": "Python 3 (ipykernel)",
   "language": "python",
   "name": "python3"
  },
  "language_info": {
   "codemirror_mode": {
    "name": "ipython",
    "version": 3
   },
   "file_extension": ".py",
   "mimetype": "text/x-python",
   "name": "python",
   "nbconvert_exporter": "python",
   "pygments_lexer": "ipython3",
   "version": "3.12.0"
  }
 },
 "nbformat": 4,
 "nbformat_minor": 5
}
